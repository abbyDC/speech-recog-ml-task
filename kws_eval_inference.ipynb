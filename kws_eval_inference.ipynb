{
  "nbformat": 4,
  "nbformat_minor": 0,
  "metadata": {
    "colab": {
      "name": "kws_eval_inference.ipynb",
      "provenance": [],
      "collapsed_sections": [
        "fluF3_oOgkWF",
        "-D38qpR9wBnu"
      ],
      "toc_visible": true,
      "include_colab_link": true
    },
    "kernelspec": {
      "display_name": "Python 3",
      "name": "python3"
    }
  },
  "cells": [
    {
      "cell_type": "markdown",
      "metadata": {
        "id": "view-in-github",
        "colab_type": "text"
      },
      "source": [
        "<a href=\"https://colab.research.google.com/github/abbyDC/speech-recog-ml-task/blob/main/kws_eval_inference.ipynb\" target=\"_parent\"><img src=\"https://colab.research.google.com/assets/colab-badge.svg\" alt=\"Open In Colab\"/></a>"
      ]
    },
    {
      "cell_type": "markdown",
      "metadata": {
        "id": "fluF3_oOgkWF"
      },
      "source": [
        "##### Copyright 2020 The TensorFlow Authors."
      ]
    },
    {
      "cell_type": "code",
      "metadata": {
        "id": "AJs7HHFmg1M9"
      },
      "source": [
        "#@title Licensed under the Apache License, Version 2.0 (the \"License\");\n",
        "# you may not use this file except in compliance with the License.\n",
        "# You may obtain a copy of the License at\n",
        "#\n",
        "# https://www.apache.org/licenses/LICENSE-2.0\n",
        "#\n",
        "# Unless required by applicable law or agreed to in writing, software\n",
        "# distributed under the License is distributed on an \"AS IS\" BASIS,\n",
        "# WITHOUT WARRANTIES OR CONDITIONS OF ANY KIND, either express or implied.\n",
        "# See the License for the specific language governing permissions and\n",
        "# limitations under the License."
      ],
      "execution_count": null,
      "outputs": []
    },
    {
      "cell_type": "markdown",
      "metadata": {
        "id": "jYysdyb-CaWM"
      },
      "source": [
        "# Keyword Spotting: Evaluation and Inference\n",
        "\n",
        "This notebook allows you to evaluate on the full test dataset and inferencing on an uploaded audio file.\n"
      ]
    },
    {
      "cell_type": "markdown",
      "metadata": {
        "id": "Go9C3uLL8Izc"
      },
      "source": [
        "## Setup\n",
        "\n",
        "Import necessary modules and dependencies.\n",
        "Part of this setup downloads the raw test set, preprocessed test set and trained model.\n",
        "It will save it in the '/content/' drive."
      ]
    },
    {
      "cell_type": "markdown",
      "metadata": {
        "id": "CTr51oYw0-IS"
      },
      "source": [
        "### Download the preprocessed test set"
      ]
    },
    {
      "cell_type": "code",
      "metadata": {
        "colab": {
          "base_uri": "https://localhost:8080/",
          "height": 171
        },
        "id": "PJ9x4R-Dn6jF",
        "outputId": "5067db3f-4bc5-482b-ecc8-7ca520265ef2"
      },
      "source": [
        "import gdown\n",
        "\n",
        "#import prerprocessed test set audio\n",
        "url = \"https://drive.google.com/uc?export=download&id=1-3hRuKgkn4yIl6I-7Y5et18oSCD_QqkW\"\n",
        "output = \"/content/speech_commands_test_audio.pkl\"\n",
        "gdown.download(url, output,quiet=False)\n",
        "\n",
        "#import prerprocessed test set labels\n",
        "url = \"https://drive.google.com/uc?export=download&id=1-661Fi2WKE9doWO2MmYNH3XCSb2I2bny\"\n",
        "output = \"/content/speech_commands_test_labels.pkl\"\n",
        "gdown.download(url, output,quiet=False)"
      ],
      "execution_count": null,
      "outputs": [
        {
          "output_type": "stream",
          "name": "stderr",
          "text": [
            "Downloading...\n",
            "From: https://drive.google.com/uc?export=download&id=1-3hRuKgkn4yIl6I-7Y5et18oSCD_QqkW\n",
            "To: /content/speech_commands_test_audio.pkl\n",
            "100%|██████████| 313M/313M [00:03<00:00, 81.6MB/s]\n",
            "Downloading...\n",
            "From: https://drive.google.com/uc?export=download&id=1-661Fi2WKE9doWO2MmYNH3XCSb2I2bny\n",
            "To: /content/speech_commands_test_labels.pkl\n",
            "100%|██████████| 39.3k/39.3k [00:00<00:00, 16.5MB/s]\n"
          ]
        },
        {
          "output_type": "execute_result",
          "data": {
            "application/vnd.google.colaboratory.intrinsic+json": {
              "type": "string"
            },
            "text/plain": [
              "'/content/speech_commands_test_labels.pkl'"
            ]
          },
          "metadata": {},
          "execution_count": 1
        }
      ]
    },
    {
      "cell_type": "markdown",
      "metadata": {
        "id": "nSgC0mms1EN5"
      },
      "source": [
        "### Download the best trained model"
      ]
    },
    {
      "cell_type": "code",
      "metadata": {
        "colab": {
          "base_uri": "https://localhost:8080/",
          "height": 103
        },
        "id": "Un4PmHdbqbNg",
        "outputId": "10cf0fe8-5a0f-4055-82f9-12f6a000d957"
      },
      "source": [
        "url = \"https://drive.google.com/uc?export=download&id=191jesT14Tt_3heCOd_OjOQ7RG9msOH5L\"\n",
        "output = \"/content/cnn_keras_model.zip\"\n",
        "gdown.download(url, output,quiet=False)"
      ],
      "execution_count": null,
      "outputs": [
        {
          "output_type": "stream",
          "name": "stderr",
          "text": [
            "Downloading...\n",
            "From: https://drive.google.com/uc?export=download&id=191jesT14Tt_3heCOd_OjOQ7RG9msOH5L\n",
            "To: /content/cnn_keras_model.zip\n",
            "100%|██████████| 16.5M/16.5M [00:00<00:00, 178MB/s]\n"
          ]
        },
        {
          "output_type": "execute_result",
          "data": {
            "application/vnd.google.colaboratory.intrinsic+json": {
              "type": "string"
            },
            "text/plain": [
              "'/content/cnn_keras_model.zip'"
            ]
          },
          "metadata": {},
          "execution_count": 2
        }
      ]
    },
    {
      "cell_type": "code",
      "metadata": {
        "colab": {
          "base_uri": "https://localhost:8080/"
        },
        "id": "-2UMkw3Pq60G",
        "outputId": "43bc103d-3cb1-4972-d87c-a7dc72a0f0c9"
      },
      "source": [
        "from zipfile import ZipFile\n",
        "  \n",
        "# specifying the zip file name\n",
        "file_name = \"/content/cnn_keras_model.zip\"\n",
        "  \n",
        "# opening the zip file in READ mode\n",
        "with ZipFile(file_name, 'r') as zip:\n",
        "    # printing all the contents of the zip file\n",
        "    zip.printdir()\n",
        "  \n",
        "    # extracting all the files\n",
        "    print('Extracting all the files now...')\n",
        "    zip.extractall('/content/')\n",
        "    print('Done!')"
      ],
      "execution_count": null,
      "outputs": [
        {
          "output_type": "stream",
          "name": "stdout",
          "text": [
            "File Name                                             Modified             Size\n",
            "cnn_keras_model/3/keras_metadata.pb            2021-11-21 18:59:58        17202\n",
            "cnn_keras_model/3/saved_model.pb               2021-11-21 18:59:58       164016\n",
            "cnn_keras_model/3/assets/                      2021-11-21 23:33:54            0\n",
            "cnn_keras_model/3/variables/variables.index    2021-11-21 18:59:58         2501\n",
            "cnn_keras_model/3/variables/variables.data-00000-of-00001 2021-11-21 18:59:58     19521777\n",
            "Extracting all the files now...\n",
            "Done!\n"
          ]
        }
      ]
    },
    {
      "cell_type": "code",
      "metadata": {
        "id": "dzLKpmZICaWN"
      },
      "source": [
        "import os\n",
        "import pathlib\n",
        "\n",
        "import matplotlib.pyplot as plt\n",
        "import numpy as np\n",
        "import seaborn as sns\n",
        "import tensorflow as tf\n",
        "\n",
        "from tensorflow.keras import layers\n",
        "from tensorflow.keras import models\n",
        "from IPython import display\n",
        "import pickle\n",
        "\n",
        "# Set the seed value for experiment reproducibility.\n",
        "seed = 42\n",
        "tf.random.set_seed(seed)\n",
        "np.random.seed(seed)"
      ],
      "execution_count": null,
      "outputs": []
    },
    {
      "cell_type": "markdown",
      "metadata": {
        "id": "yR0EdgrLCaWR"
      },
      "source": [
        "## Import Full Test Data\n",
        "\n",
        "This loads the full test data given a path."
      ]
    },
    {
      "cell_type": "code",
      "metadata": {
        "id": "2-rayb7-3Y0I"
      },
      "source": [
        "TEST_DATASET_PATH = '/content/speech_commands_test_set_v0.02'\n",
        "\n",
        "test_data_dir = pathlib.Path(TEST_DATASET_PATH)\n",
        "if not test_data_dir.exists():\n",
        "  url = \"https://drive.google.com/uc?export=download&id=1cFzDj_fiWIsg234SMVFir4EKvTsbcgeI\"\n",
        "  output = \"/content/speech_commands_test_set_v0.02.zip\"\n",
        "  gdown.download(url, output,quiet=False)\n",
        "\n",
        "  # unzip files\n",
        "  from zipfile import ZipFile\n",
        "  file_name = \"/content/speech_commands_test_set_v0.02.zip\"\n",
        "    \n",
        "  with ZipFile(file_name, 'r') as zip:\n",
        "      # zip.printdir()\n",
        "      print('Extracting all the files now...')\n",
        "      zip.extractall('/content/')\n",
        "      print('Done!')"
      ],
      "execution_count": null,
      "outputs": []
    },
    {
      "cell_type": "markdown",
      "metadata": {
        "id": "BgvFq3uYiS5G"
      },
      "source": [
        "12 keywords were used in the test set namely: `no`, `yes`, `down`, `go`, `left`, `up`, `right`, and `stop`, `off`, `on`, `_silence_`, `_unknown_`:"
      ]
    },
    {
      "cell_type": "code",
      "metadata": {
        "id": "70IBxSKxA1N9"
      },
      "source": [
        "# commands = np.array(tf.io.gfile.listdir(str(test_data_dir)))\n",
        "# commands = commands[commands != 'README.md']\n",
        "commands = np.array(['no', '_silence_','left','go','stop','off','down','on','right','yes',\n",
        " '_unknown_','up'])"
      ],
      "execution_count": null,
      "outputs": []
    },
    {
      "cell_type": "code",
      "metadata": {
        "colab": {
          "base_uri": "https://localhost:8080/"
        },
        "id": "hlX685l1wD9k",
        "outputId": "f5a34719-677d-49da-dbf6-6f20d733d8ce"
      },
      "source": [
        "#TEST\n",
        "test_filenames = tf.io.gfile.glob(str(test_data_dir) + '/*/*')\n",
        "test_filenames = tf.random.shuffle(test_filenames)\n",
        "test_num_samples = len(test_filenames)\n",
        "print('Number of total examples:', test_num_samples)"
      ],
      "execution_count": null,
      "outputs": [
        {
          "output_type": "stream",
          "name": "stdout",
          "text": [
            "Number of total examples: 4890\n"
          ]
        }
      ]
    },
    {
      "cell_type": "code",
      "metadata": {
        "colab": {
          "base_uri": "https://localhost:8080/"
        },
        "id": "jJ3MWbgBhFxh",
        "outputId": "4d994562-e49b-4bde-e601-b974bec3d9c9"
      },
      "source": [
        "for x in range(0,12):\n",
        "  print('Number of examples per label:',\n",
        "        len(tf.io.gfile.listdir(str(test_data_dir/commands[x]))))\n",
        "print('Example file tensor:', test_filenames[0])"
      ],
      "execution_count": null,
      "outputs": [
        {
          "output_type": "stream",
          "name": "stdout",
          "text": [
            "Number of examples per label: 405\n",
            "Number of examples per label: 412\n",
            "Number of examples per label: 425\n",
            "Number of examples per label: 396\n",
            "Number of examples per label: 408\n",
            "Number of examples per label: 402\n",
            "Number of examples per label: 408\n",
            "Number of examples per label: 411\n",
            "Number of examples per label: 402\n",
            "Number of examples per label: 419\n",
            "Number of examples per label: 406\n",
            "Number of examples per label: 396\n",
            "Example file tensor: tf.Tensor(b'/content/speech_commands_test_set_v0.02/on/a60a09cf_nohash_1.wav', shape=(), dtype=string)\n"
          ]
        }
      ]
    },
    {
      "cell_type": "code",
      "metadata": {
        "colab": {
          "base_uri": "https://localhost:8080/"
        },
        "id": "Cv_wts-l3KgD",
        "outputId": "c1aa7e8c-ceaa-4b79-a034-674aeee82b6f"
      },
      "source": [
        "test_files = test_filenames\n",
        "\n",
        "print('Test set size', len(test_files))"
      ],
      "execution_count": null,
      "outputs": [
        {
          "output_type": "stream",
          "name": "stdout",
          "text": [
            "Test set size 4890\n"
          ]
        }
      ]
    },
    {
      "cell_type": "markdown",
      "metadata": {
        "id": "g2Cj9FyvfweD"
      },
      "source": [
        "## Data Preprocessing"
      ]
    },
    {
      "cell_type": "markdown",
      "metadata": {
        "id": "e6bb8defd2ef"
      },
      "source": [
        "Now, let's define a function that preprocesses the dataset's raw WAV audio files into audio tensors:"
      ]
    },
    {
      "cell_type": "code",
      "metadata": {
        "id": "9PjJ2iXYwftD"
      },
      "source": [
        "def decode_audio(audio_binary):\n",
        "  # Decode WAV-encoded audio files to `float32` tensors, normalized\n",
        "  # to the [-1.0, 1.0] range. Return `float32` audio and a sample rate.\n",
        "  audio, _ = tf.audio.decode_wav(contents=audio_binary)\n",
        "  # Since all the data is single channel (mono), drop the `channels`\n",
        "  # axis from the array.\n",
        "  return tf.squeeze(audio, axis=-1)"
      ],
      "execution_count": null,
      "outputs": []
    },
    {
      "cell_type": "markdown",
      "metadata": {
        "id": "GPQseZElOjVN"
      },
      "source": [
        "Define a function that creates labels using the parent directories for each file:\n",
        "\n",
        "- Split the file paths into `tf.RaggedTensor`s (tensors with ragged dimensions—with slices that may have different lengths)."
      ]
    },
    {
      "cell_type": "code",
      "metadata": {
        "id": "8VTtX1nr3YT-"
      },
      "source": [
        "def get_label(file_path):\n",
        "  parts = tf.strings.split(\n",
        "      input=file_path,\n",
        "      sep=os.path.sep)\n",
        "  # Note: You'll use indexing here instead of tuple unpacking to enable this\n",
        "  # to work in a TensorFlow graph.\n",
        "  return parts[-2]"
      ],
      "execution_count": null,
      "outputs": []
    },
    {
      "cell_type": "markdown",
      "metadata": {
        "id": "E8Y9w_5MOsr-"
      },
      "source": [
        "Define another helper function—`get_waveform_and_label`—that puts it all together:\n",
        "\n",
        "- The input is the WAV audio filename.\n",
        "- The output is a tuple containing the audio and label tensors ready for supervised learning."
      ]
    },
    {
      "cell_type": "code",
      "metadata": {
        "id": "WdgUD5T93NyT"
      },
      "source": [
        "def get_waveform_and_label(file_path):\n",
        "  label = get_label(file_path)\n",
        "  audio_binary = tf.io.read_file(file_path)\n",
        "  waveform = decode_audio(audio_binary)\n",
        "  return waveform, label"
      ],
      "execution_count": null,
      "outputs": []
    },
    {
      "cell_type": "code",
      "metadata": {
        "id": "0SQl8yXl3kNP"
      },
      "source": [
        "AUTOTUNE = tf.data.AUTOTUNE"
      ],
      "execution_count": null,
      "outputs": []
    },
    {
      "cell_type": "markdown",
      "metadata": {
        "id": "EWXPphxm0B4m"
      },
      "source": [
        "### Convert waveforms to spectrograms"
      ]
    },
    {
      "cell_type": "code",
      "metadata": {
        "id": "_4CK75DHz_OR"
      },
      "source": [
        "def get_spectrogram(waveform):\n",
        "  # Zero-padding for an audio waveform with less than 16,000 samples.\n",
        "  input_len = 16000\n",
        "  waveform = waveform[:input_len]\n",
        "  zero_padding = tf.zeros(\n",
        "      [16000] - tf.shape(waveform),\n",
        "      dtype=tf.float32)\n",
        "  # Cast the waveform tensors' dtype to float32.\n",
        "  waveform = tf.cast(waveform, dtype=tf.float32)\n",
        "  # Concatenate the waveform with `zero_padding`, which ensures all audio\n",
        "  # clips are of the same length.\n",
        "  equal_length = tf.concat([waveform, zero_padding], 0)\n",
        "  # Convert the waveform to a spectrogram via a STFT.\n",
        "  spectrogram = tf.signal.stft(\n",
        "      equal_length, frame_length=255, frame_step=128)\n",
        "  # Obtain the magnitude of the STFT.\n",
        "  spectrogram = tf.abs(spectrogram)\n",
        "  # Add a `channels` dimension, so that the spectrogram can be used\n",
        "  # as image-like input data with convolution layers (which expect\n",
        "  # shape (`batch_size`, `height`, `width`, `channels`).\n",
        "  spectrogram = spectrogram[..., tf.newaxis]\n",
        "  return spectrogram"
      ],
      "execution_count": null,
      "outputs": []
    },
    {
      "cell_type": "markdown",
      "metadata": {
        "id": "GyYXjW07jCHA"
      },
      "source": [
        "### Get the correspong labels as integer IDs"
      ]
    },
    {
      "cell_type": "code",
      "metadata": {
        "id": "43IS2IouEV40"
      },
      "source": [
        "def get_spectrogram_and_label_id(audio, label):\n",
        "  spectrogram = get_spectrogram(audio)\n",
        "  label_id = tf.argmax(label == commands)\n",
        "  return spectrogram, label_id"
      ],
      "execution_count": null,
      "outputs": []
    },
    {
      "cell_type": "code",
      "metadata": {
        "id": "10UI32QH_45b"
      },
      "source": [
        "def preprocess_dataset(files):\n",
        "  files_ds = tf.data.Dataset.from_tensor_slices(files)\n",
        "  output_ds = files_ds.map(\n",
        "      map_func=get_waveform_and_label,\n",
        "      num_parallel_calls=AUTOTUNE)\n",
        "  output_ds = output_ds.map(\n",
        "      map_func=get_spectrogram_and_label_id,\n",
        "      num_parallel_calls=AUTOTUNE)\n",
        "  return output_ds"
      ],
      "execution_count": null,
      "outputs": []
    },
    {
      "cell_type": "markdown",
      "metadata": {
        "id": "5ZTt3kO3mfm4"
      },
      "source": [
        "## Evalaution on Test Set\n",
        "Run the model on the test set and check the model's performance:"
      ]
    },
    {
      "cell_type": "markdown",
      "metadata": {
        "id": "CI3-vNv0TEo2"
      },
      "source": [
        "### Load Trained Model"
      ]
    },
    {
      "cell_type": "code",
      "metadata": {
        "id": "YdLohfsilis4"
      },
      "source": [
        "model_path = \"/content/cnn_keras_model/3\"\n",
        "model = tf.keras.models.load_model(model_path)"
      ],
      "execution_count": null,
      "outputs": []
    },
    {
      "cell_type": "markdown",
      "metadata": {
        "id": "M_gbeFBXv54R"
      },
      "source": [
        "### Load the pickled and preprocessed test set"
      ]
    },
    {
      "cell_type": "code",
      "metadata": {
        "id": "UkkTEpefnMwV"
      },
      "source": [
        "# load preprocessed test set (4890 tests)\n",
        "with open('/content/speech_commands_test_audio.pkl','rb') as f: test_audio = pickle.load(f)\n",
        "with open('/content/speech_commands_test_labels.pkl','rb') as f: test_labels = pickle.load(f)"
      ],
      "execution_count": null,
      "outputs": []
    },
    {
      "cell_type": "code",
      "metadata": {
        "colab": {
          "base_uri": "https://localhost:8080/"
        },
        "id": "iBp9fHSksqID",
        "outputId": "d1350f1e-fd78-40a9-e427-277fa3ab868e"
      },
      "source": [
        "print(\"# of test audio:\",len(test_audio))\n",
        "print(\"# of test labels:\",len(test_labels))"
      ],
      "execution_count": null,
      "outputs": [
        {
          "output_type": "stream",
          "name": "stdout",
          "text": [
            "# of test audio: 4890\n",
            "# of test labels: 4890\n"
          ]
        }
      ]
    },
    {
      "cell_type": "markdown",
      "metadata": {
        "id": "-D38qpR9wBnu"
      },
      "source": [
        "### **Uncomment this if you want to preprocess a new batch of test data"
      ]
    },
    {
      "cell_type": "code",
      "metadata": {
        "id": "Alz7Llv1wAF5"
      },
      "source": [
        "# test_ds = preprocess_dataset(test_files)\n",
        "\n",
        "# test_audio = []\n",
        "# test_labels = []\n",
        "\n",
        "# for audio, label in test_ds:\n",
        "#   test_audio.append(audio.numpy())\n",
        "#   test_labels.append(label.numpy())\n",
        "\n",
        "# test_audio = np.array(test_audio)\n",
        "# test_labels = np.array(test_labels)"
      ],
      "execution_count": null,
      "outputs": []
    },
    {
      "cell_type": "markdown",
      "metadata": {
        "id": "9V3TRJvMt273"
      },
      "source": [
        "### Display the test set accuracy"
      ]
    },
    {
      "cell_type": "code",
      "metadata": {
        "id": "ktUanr9mRZky",
        "colab": {
          "base_uri": "https://localhost:8080/"
        },
        "outputId": "b7681e1f-b0d5-45e9-e6f4-3051964359d6"
      },
      "source": [
        "y_pred = np.argmax(model.predict(test_audio), axis=1)\n",
        "y_true = test_labels\n",
        "\n",
        "test_acc = sum(y_pred == y_true) / len(y_true)\n",
        "print(f'Test set accuracy: {test_acc:.2%}')"
      ],
      "execution_count": null,
      "outputs": [
        {
          "output_type": "stream",
          "name": "stdout",
          "text": [
            "Test set accuracy: 91.60%\n"
          ]
        }
      ]
    },
    {
      "cell_type": "markdown",
      "metadata": {
        "id": "en9Znt1NOabH"
      },
      "source": [
        "### Display a confusion matrix\n",
        "\n",
        "Use a <a href=\"https://developers.google.com/machine-learning/glossary#confusion-matrix\" class=\"external\">confusion matrix</a> to check how well the model did classifying each of the commands in the test set:\n"
      ]
    },
    {
      "cell_type": "code",
      "metadata": {
        "id": "LvoSAOiXU3lL",
        "colab": {
          "base_uri": "https://localhost:8080/",
          "height": 498
        },
        "outputId": "0fb3efab-5dbc-41db-da39-f4dabe5af5da"
      },
      "source": [
        "confusion_mtx = tf.math.confusion_matrix(y_true, y_pred)\n",
        "plt.figure(figsize=(10, 8))\n",
        "sns.heatmap(confusion_mtx,\n",
        "            xticklabels=commands,\n",
        "            yticklabels=commands,\n",
        "            annot=True, fmt='g')\n",
        "plt.xlabel('Prediction')\n",
        "plt.ylabel('Label')\n",
        "plt.show()"
      ],
      "execution_count": null,
      "outputs": [
        {
          "output_type": "display_data",
          "data": {
            "image/png": "[encoded data removed]",
            "text/plain": [
              "<Figure size 720x576 with 2 Axes>"
            ]
          },
          "metadata": {
            "needs_background": "light"
          }
        }
      ]
    },
    {
      "cell_type": "markdown",
      "metadata": {
        "id": "mQGi_mzPcLvl"
      },
      "source": [
        "## Inferencing on an audio file\n",
        "\n",
        "Upload a wav file to test the model's predictions. You can use any file from the downloaded \"speech_commands_test_set_v0.02\" by just specifying the filename."
      ]
    },
    {
      "cell_type": "code",
      "metadata": {
        "id": "zRxauKMdhofU",
        "colab": {
          "base_uri": "https://localhost:8080/",
          "height": 282
        },
        "outputId": "c41a9b8e-41d9-4080-8d5d-602df9a313e7"
      },
      "source": [
        "commands = np.array(['no', '_silence_','left','go','stop','off','down','on','right','yes',\n",
        " '_unknown_','up'])\n",
        "\n",
        "sample_file = test_data_dir/'right/18f8afd5_nohash_0.wav'\n",
        "\n",
        "sample_ds = preprocess_dataset([str(sample_file)])\n",
        "\n",
        "for spectrogram, label in sample_ds.batch(1):\n",
        "  prediction = model(spectrogram)\n",
        "  plt.bar(commands, tf.nn.softmax(prediction[0]))\n",
        "  plt.title(f'Predictions for \"{commands[label[0]]}\"')\n",
        "  plt.show()"
      ],
      "execution_count": null,
      "outputs": [
        {
          "output_type": "display_data",
          "data": {
            "image/png": "[encoded data removed]",
            "text/plain": [
              "<Figure size 432x288 with 1 Axes>"
            ]
          },
          "metadata": {
            "needs_background": "light"
          }
        }
      ]
    }
  ]
}